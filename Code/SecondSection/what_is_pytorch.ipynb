{
 "metadata": {
  "language_info": {
   "codemirror_mode": {
    "name": "ipython",
    "version": 3
   },
   "file_extension": ".py",
   "mimetype": "text/x-python",
   "name": "python",
   "nbconvert_exporter": "python",
   "pygments_lexer": "ipython3",
   "version": "3.7.6-final"
  },
  "orig_nbformat": 2,
  "kernelspec": {
   "name": "python3",
   "display_name": "Python 3.7.6 64-bit (conda)",
   "metadata": {
    "interpreter": {
     "hash": "e8fd100a2c8866ae2d3e8b85cd01e709724ac0af43a714c586c6afac94a5cb88"
    }
   }
  }
 },
 "nbformat": 4,
 "nbformat_minor": 2,
 "cells": [
  {
   "source": [
    "# What is PyTorch?"
   ],
   "cell_type": "markdown",
   "metadata": {}
  },
  {
   "source": [
    "## Tensors"
   ],
   "cell_type": "markdown",
   "metadata": {}
  },
  {
   "cell_type": "code",
   "execution_count": 1,
   "metadata": {},
   "outputs": [],
   "source": [
    "from __future__ import print_function\n",
    "import torch"
   ]
  },
  {
   "cell_type": "code",
   "execution_count": 4,
   "metadata": {},
   "outputs": [
    {
     "output_type": "stream",
     "name": "stdout",
     "text": [
      "tensor([[4.6837e-39, 9.9184e-39, 9.0000e-39],\n        [1.0561e-38, 1.0653e-38, 4.1327e-39],\n        [8.9082e-39, 9.8265e-39, 9.4592e-39],\n        [1.0561e-38, 1.0653e-38, 1.0469e-38],\n        [9.5510e-39, 8.7245e-39, 1.0653e-38]])\n"
     ]
    }
   ],
   "source": [
    "# Construct a 5*3 empty matrix\n",
    "x = torch.empty(5,3)\n",
    "print(x)"
   ]
  },
  {
   "cell_type": "code",
   "execution_count": 5,
   "metadata": {},
   "outputs": [
    {
     "output_type": "execute_result",
     "data": {
      "text/plain": [
       "tensor([[0.1212, 0.3755, 0.3322],\n",
       "        [0.7060, 0.5193, 0.0431],\n",
       "        [0.0606, 0.3160, 0.7398],\n",
       "        [0.6948, 0.3543, 0.5683],\n",
       "        [0.3030, 0.1150, 0.4799]])"
      ]
     },
     "metadata": {},
     "execution_count": 5
    }
   ],
   "source": [
    "# Construct a randomly initialized matrix\n",
    "x = torch.rand(5,3)\n",
    "x"
   ]
  },
  {
   "cell_type": "code",
   "execution_count": 6,
   "metadata": {},
   "outputs": [
    {
     "output_type": "execute_result",
     "data": {
      "text/plain": [
       "tensor([[0, 0, 0],\n",
       "        [0, 0, 0],\n",
       "        [0, 0, 0],\n",
       "        [0, 0, 0],\n",
       "        [0, 0, 0]])"
      ]
     },
     "metadata": {},
     "execution_count": 6
    }
   ],
   "source": [
    "# Construct a zero matrix, and set the data type to long\n",
    "x = torch.zeros(5, 3, dtype=torch.long)\n",
    "x"
   ]
  },
  {
   "cell_type": "code",
   "execution_count": 7,
   "metadata": {},
   "outputs": [
    {
     "output_type": "execute_result",
     "data": {
      "text/plain": [
       "tensor([5.5000, 3.0000])"
      ]
     },
     "metadata": {},
     "execution_count": 7
    }
   ],
   "source": [
    "# Construct a common tensor\n",
    "x = torch.tensor([5.5, 3])\n",
    "x"
   ]
  },
  {
   "cell_type": "code",
   "execution_count": 8,
   "metadata": {},
   "outputs": [
    {
     "output_type": "execute_result",
     "data": {
      "text/plain": [
       "tensor([[1., 1., 1.],\n",
       "        [1., 1., 1.],\n",
       "        [1., 1., 1.],\n",
       "        [1., 1., 1.],\n",
       "        [1., 1., 1.]], dtype=torch.float64)"
      ]
     },
     "metadata": {},
     "execution_count": 8
    }
   ],
   "source": [
    "# Construct a tensor, then construct another tensor based on the former tensor\n",
    "x = x.new_ones(5, 3, dtype=torch.double)\n",
    "x"
   ]
  },
  {
   "cell_type": "code",
   "execution_count": 9,
   "metadata": {},
   "outputs": [
    {
     "output_type": "execute_result",
     "data": {
      "text/plain": [
       "tensor([[ 1.1382, -0.6949,  0.0343],\n",
       "        [ 1.3558,  0.1729, -0.7050],\n",
       "        [ 0.3986,  0.3228,  0.0535],\n",
       "        [-0.8004,  0.4166, -0.1620],\n",
       "        [-0.3442, -0.6268, -0.1522]])"
      ]
     },
     "metadata": {},
     "execution_count": 9
    }
   ],
   "source": [
    "x = torch.randn_like(x, dtype=torch.float)\n",
    "x"
   ]
  },
  {
   "cell_type": "code",
   "execution_count": 10,
   "metadata": {},
   "outputs": [
    {
     "output_type": "execute_result",
     "data": {
      "text/plain": [
       "torch.Size([5, 3])"
      ]
     },
     "metadata": {},
     "execution_count": 10
    }
   ],
   "source": [
    "# Get the size of a tensor\n",
    "x.size()"
   ]
  },
  {
   "source": [
    "## Operations"
   ],
   "cell_type": "markdown",
   "metadata": {}
  },
  {
   "source": [
    "### Add: Way 1"
   ],
   "cell_type": "markdown",
   "metadata": {}
  },
  {
   "cell_type": "code",
   "execution_count": 11,
   "metadata": {},
   "outputs": [
    {
     "output_type": "execute_result",
     "data": {
      "text/plain": [
       "tensor([[ 1.1813, -0.1887,  0.4171],\n",
       "        [ 2.2018,  0.6006,  0.2889],\n",
       "        [ 0.6426,  0.6922,  0.0883],\n",
       "        [-0.7869,  0.4413, -0.0678],\n",
       "        [ 0.5683,  0.2711,  0.6906]])"
      ]
     },
     "metadata": {},
     "execution_count": 11
    }
   ],
   "source": [
    "y = torch.rand(5, 3)\n",
    "x + y"
   ]
  },
  {
   "source": [
    "### Add: Way 2"
   ],
   "cell_type": "markdown",
   "metadata": {}
  },
  {
   "cell_type": "code",
   "execution_count": 12,
   "metadata": {},
   "outputs": [
    {
     "output_type": "execute_result",
     "data": {
      "text/plain": [
       "tensor([[ 1.1813, -0.1887,  0.4171],\n",
       "        [ 2.2018,  0.6006,  0.2889],\n",
       "        [ 0.6426,  0.6922,  0.0883],\n",
       "        [-0.7869,  0.4413, -0.0678],\n",
       "        [ 0.5683,  0.2711,  0.6906]])"
      ]
     },
     "metadata": {},
     "execution_count": 12
    }
   ],
   "source": [
    "torch.add(x, y)"
   ]
  },
  {
   "source": [
    "### Add: Use an output tensor to store the result"
   ],
   "cell_type": "markdown",
   "metadata": {}
  },
  {
   "cell_type": "code",
   "execution_count": 13,
   "metadata": {},
   "outputs": [
    {
     "output_type": "execute_result",
     "data": {
      "text/plain": [
       "tensor([[ 1.1813, -0.1887,  0.4171],\n",
       "        [ 2.2018,  0.6006,  0.2889],\n",
       "        [ 0.6426,  0.6922,  0.0883],\n",
       "        [-0.7869,  0.4413, -0.0678],\n",
       "        [ 0.5683,  0.2711,  0.6906]])"
      ]
     },
     "metadata": {},
     "execution_count": 13
    }
   ],
   "source": [
    "result = torch.empty(5, 3)\n",
    "torch.add(x, y, out=result)\n",
    "result"
   ]
  },
  {
   "source": [
    "### Add: In-place"
   ],
   "cell_type": "markdown",
   "metadata": {}
  },
  {
   "cell_type": "code",
   "execution_count": 14,
   "metadata": {},
   "outputs": [
    {
     "output_type": "execute_result",
     "data": {
      "text/plain": [
       "tensor([[ 1.1813, -0.1887,  0.4171],\n",
       "        [ 2.2018,  0.6006,  0.2889],\n",
       "        [ 0.6426,  0.6922,  0.0883],\n",
       "        [-0.7869,  0.4413, -0.0678],\n",
       "        [ 0.5683,  0.2711,  0.6906]])"
      ]
     },
     "metadata": {},
     "execution_count": 14
    }
   ],
   "source": [
    "# Add x to y\n",
    "y.add_(x)\n",
    "y"
   ]
  },
  {
   "source": [
    "Note that any operation which would change the tensor has a prefix, such as `x.copy_(y)`, `x.t_()`, which will change `x`."
   ],
   "cell_type": "markdown",
   "metadata": {}
  },
  {
   "cell_type": "code",
   "execution_count": 15,
   "metadata": {},
   "outputs": [
    {
     "output_type": "execute_result",
     "data": {
      "text/plain": [
       "tensor([[ 1.1813, -0.1887,  0.4171],\n",
       "        [ 2.2018,  0.6006,  0.2889],\n",
       "        [ 0.6426,  0.6922,  0.0883],\n",
       "        [-0.7869,  0.4413, -0.0678],\n",
       "        [ 0.5683,  0.2711,  0.6906]])"
      ]
     },
     "metadata": {},
     "execution_count": 15
    }
   ],
   "source": [
    "x.copy_(y)\n",
    "x"
   ]
  },
  {
   "cell_type": "code",
   "execution_count": 18,
   "metadata": {},
   "outputs": [
    {
     "output_type": "execute_result",
     "data": {
      "text/plain": [
       "tensor([[ 1.1813,  2.2018,  0.6426, -0.7869,  0.5683],\n",
       "        [-0.1887,  0.6006,  0.6922,  0.4413,  0.2711],\n",
       "        [ 0.4171,  0.2889,  0.0883, -0.0678,  0.6906]])"
      ]
     },
     "metadata": {},
     "execution_count": 18
    }
   ],
   "source": [
    "x.t_()\n",
    "x"
   ]
  },
  {
   "source": [
    "### Index operation as in Numpy"
   ],
   "cell_type": "markdown",
   "metadata": {}
  },
  {
   "cell_type": "code",
   "execution_count": 20,
   "metadata": {},
   "outputs": [
    {
     "output_type": "execute_result",
     "data": {
      "text/plain": [
       "tensor([[ 2.2018,  0.6426, -0.7869],\n",
       "        [ 0.6006,  0.6922,  0.4413],\n",
       "        [ 0.2889,  0.0883, -0.0678]])"
      ]
     },
     "metadata": {},
     "execution_count": 20
    }
   ],
   "source": [
    "x[:, 1:4]"
   ]
  },
  {
   "source": [
    "#### Change a tensor's size or shape: `.view()`"
   ],
   "cell_type": "markdown",
   "metadata": {}
  },
  {
   "cell_type": "code",
   "execution_count": 21,
   "metadata": {},
   "outputs": [
    {
     "output_type": "execute_result",
     "data": {
      "text/plain": [
       "tensor([[0.9089, 0.0648, 0.6228, 0.7501],\n",
       "        [0.0364, 0.5997, 0.4292, 0.1779],\n",
       "        [0.9810, 0.7894, 0.3001, 0.7633],\n",
       "        [0.6820, 0.0088, 0.3186, 0.9039]])"
      ]
     },
     "metadata": {},
     "execution_count": 21
    }
   ],
   "source": [
    "x = torch.rand(4, 4)\n",
    "x"
   ]
  },
  {
   "cell_type": "code",
   "execution_count": 22,
   "metadata": {},
   "outputs": [
    {
     "output_type": "execute_result",
     "data": {
      "text/plain": [
       "tensor([0.9089, 0.0648, 0.6228, 0.7501, 0.0364, 0.5997, 0.4292, 0.1779, 0.9810,\n",
       "        0.7894, 0.3001, 0.7633, 0.6820, 0.0088, 0.3186, 0.9039])"
      ]
     },
     "metadata": {},
     "execution_count": 22
    }
   ],
   "source": [
    "y = x.view(16)\n",
    "y"
   ]
  },
  {
   "cell_type": "code",
   "execution_count": 23,
   "metadata": {},
   "outputs": [
    {
     "output_type": "execute_result",
     "data": {
      "text/plain": [
       "tensor([[0.9089, 0.0648, 0.6228, 0.7501, 0.0364, 0.5997, 0.4292, 0.1779],\n",
       "        [0.9810, 0.7894, 0.3001, 0.7633, 0.6820, 0.0088, 0.3186, 0.9039]])"
      ]
     },
     "metadata": {},
     "execution_count": 23
    }
   ],
   "source": [
    "z = x.view(-1, 8) # the size -1 is inferred from other dimensions\n",
    "z"
   ]
  },
  {
   "cell_type": "code",
   "execution_count": 24,
   "metadata": {},
   "outputs": [
    {
     "output_type": "execute_result",
     "data": {
      "text/plain": [
       "(torch.Size([4, 4]), torch.Size([16]), torch.Size([2, 8]))"
      ]
     },
     "metadata": {},
     "execution_count": 24
    }
   ],
   "source": [
    "x.size(), y.size(), z.size()"
   ]
  },
  {
   "source": [
    "#### Use `.item()` to get a (one-element-) tensor's value"
   ],
   "cell_type": "markdown",
   "metadata": {}
  },
  {
   "cell_type": "code",
   "execution_count": 25,
   "metadata": {},
   "outputs": [
    {
     "output_type": "execute_result",
     "data": {
      "text/plain": [
       "tensor([0.8069])"
      ]
     },
     "metadata": {},
     "execution_count": 25
    }
   ],
   "source": [
    "x = torch.rand(1)\n",
    "x"
   ]
  },
  {
   "cell_type": "code",
   "execution_count": 26,
   "metadata": {},
   "outputs": [
    {
     "output_type": "execute_result",
     "data": {
      "text/plain": [
       "0.8069329261779785"
      ]
     },
     "metadata": {},
     "execution_count": 26
    }
   ],
   "source": [
    "x.item()"
   ]
  },
  {
   "cell_type": "code",
   "execution_count": null,
   "metadata": {},
   "outputs": [],
   "source": []
  }
 ]
}