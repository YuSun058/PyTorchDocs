{
 "metadata": {
  "language_info": {
   "codemirror_mode": {
    "name": "ipython",
    "version": 3
   },
   "file_extension": ".py",
   "mimetype": "text/x-python",
   "name": "python",
   "nbconvert_exporter": "python",
   "pygments_lexer": "ipython3",
   "version": "3.7.6-final"
  },
  "orig_nbformat": 2,
  "kernelspec": {
   "name": "python3",
   "display_name": "Python 3.7.6 64-bit (conda)",
   "metadata": {
    "interpreter": {
     "hash": "e8fd100a2c8866ae2d3e8b85cd01e709724ac0af43a714c586c6afac94a5cb88"
    }
   }
  }
 },
 "nbformat": 4,
 "nbformat_minor": 2,
 "cells": [
  {
   "source": [
    "# What is PyTorch?"
   ],
   "cell_type": "markdown",
   "metadata": {}
  },
  {
   "source": [
    "## Tensors"
   ],
   "cell_type": "markdown",
   "metadata": {}
  },
  {
   "cell_type": "code",
   "execution_count": 1,
   "metadata": {},
   "outputs": [],
   "source": [
    "from __future__ import print_function\n",
    "import torch"
   ]
  },
  {
   "cell_type": "code",
   "execution_count": 4,
   "metadata": {},
   "outputs": [
    {
     "output_type": "stream",
     "name": "stdout",
     "text": [
      "tensor([[4.6837e-39, 9.9184e-39, 9.0000e-39],\n        [1.0561e-38, 1.0653e-38, 4.1327e-39],\n        [8.9082e-39, 9.8265e-39, 9.4592e-39],\n        [1.0561e-38, 1.0653e-38, 1.0469e-38],\n        [9.5510e-39, 8.7245e-39, 1.0653e-38]])\n"
     ]
    }
   ],
   "source": [
    "# Construct a 5*3 empty matrix\n",
    "x = torch.empty(5,3)\n",
    "print(x)"
   ]
  },
  {
   "cell_type": "code",
   "execution_count": 5,
   "metadata": {},
   "outputs": [
    {
     "output_type": "execute_result",
     "data": {
      "text/plain": [
       "tensor([[0.1212, 0.3755, 0.3322],\n",
       "        [0.7060, 0.5193, 0.0431],\n",
       "        [0.0606, 0.3160, 0.7398],\n",
       "        [0.6948, 0.3543, 0.5683],\n",
       "        [0.3030, 0.1150, 0.4799]])"
      ]
     },
     "metadata": {},
     "execution_count": 5
    }
   ],
   "source": [
    "# Construct a randomly initialized matrix\n",
    "x = torch.rand(5,3)\n",
    "x"
   ]
  },
  {
   "cell_type": "code",
   "execution_count": 6,
   "metadata": {},
   "outputs": [
    {
     "output_type": "execute_result",
     "data": {
      "text/plain": [
       "tensor([[0, 0, 0],\n",
       "        [0, 0, 0],\n",
       "        [0, 0, 0],\n",
       "        [0, 0, 0],\n",
       "        [0, 0, 0]])"
      ]
     },
     "metadata": {},
     "execution_count": 6
    }
   ],
   "source": [
    "# Construct a zero matrix, and set the data type to long\n",
    "x = torch.zeros(5, 3, dtype=torch.long)\n",
    "x"
   ]
  },
  {
   "cell_type": "code",
   "execution_count": 7,
   "metadata": {},
   "outputs": [
    {
     "output_type": "execute_result",
     "data": {
      "text/plain": [
       "tensor([5.5000, 3.0000])"
      ]
     },
     "metadata": {},
     "execution_count": 7
    }
   ],
   "source": [
    "# Construct a common tensor\n",
    "x = torch.tensor([5.5, 3])\n",
    "x"
   ]
  },
  {
   "cell_type": "code",
   "execution_count": 8,
   "metadata": {},
   "outputs": [
    {
     "output_type": "execute_result",
     "data": {
      "text/plain": [
       "tensor([[1., 1., 1.],\n",
       "        [1., 1., 1.],\n",
       "        [1., 1., 1.],\n",
       "        [1., 1., 1.],\n",
       "        [1., 1., 1.]], dtype=torch.float64)"
      ]
     },
     "metadata": {},
     "execution_count": 8
    }
   ],
   "source": [
    "# Construct a tensor, then construct another tensor based on the former tensor\n",
    "x = x.new_ones(5, 3, dtype=torch.double)\n",
    "x"
   ]
  },
  {
   "cell_type": "code",
   "execution_count": 9,
   "metadata": {},
   "outputs": [
    {
     "output_type": "execute_result",
     "data": {
      "text/plain": [
       "tensor([[ 1.1382, -0.6949,  0.0343],\n",
       "        [ 1.3558,  0.1729, -0.7050],\n",
       "        [ 0.3986,  0.3228,  0.0535],\n",
       "        [-0.8004,  0.4166, -0.1620],\n",
       "        [-0.3442, -0.6268, -0.1522]])"
      ]
     },
     "metadata": {},
     "execution_count": 9
    }
   ],
   "source": [
    "x = torch.randn_like(x, dtype=torch.float)\n",
    "x"
   ]
  },
  {
   "cell_type": "code",
   "execution_count": 10,
   "metadata": {},
   "outputs": [
    {
     "output_type": "execute_result",
     "data": {
      "text/plain": [
       "torch.Size([5, 3])"
      ]
     },
     "metadata": {},
     "execution_count": 10
    }
   ],
   "source": [
    "# Get the size of a tensor\n",
    "x.size()"
   ]
  },
  {
   "source": [
    "## Operations"
   ],
   "cell_type": "markdown",
   "metadata": {}
  },
  {
   "source": [
    "### Add: Way 1"
   ],
   "cell_type": "markdown",
   "metadata": {}
  },
  {
   "cell_type": "code",
   "execution_count": 11,
   "metadata": {},
   "outputs": [
    {
     "output_type": "execute_result",
     "data": {
      "text/plain": [
       "tensor([[ 1.1813, -0.1887,  0.4171],\n",
       "        [ 2.2018,  0.6006,  0.2889],\n",
       "        [ 0.6426,  0.6922,  0.0883],\n",
       "        [-0.7869,  0.4413, -0.0678],\n",
       "        [ 0.5683,  0.2711,  0.6906]])"
      ]
     },
     "metadata": {},
     "execution_count": 11
    }
   ],
   "source": [
    "y = torch.rand(5, 3)\n",
    "x + y"
   ]
  },
  {
   "source": [
    "### Add: Way 2"
   ],
   "cell_type": "markdown",
   "metadata": {}
  },
  {
   "cell_type": "code",
   "execution_count": 12,
   "metadata": {},
   "outputs": [
    {
     "output_type": "execute_result",
     "data": {
      "text/plain": [
       "tensor([[ 1.1813, -0.1887,  0.4171],\n",
       "        [ 2.2018,  0.6006,  0.2889],\n",
       "        [ 0.6426,  0.6922,  0.0883],\n",
       "        [-0.7869,  0.4413, -0.0678],\n",
       "        [ 0.5683,  0.2711,  0.6906]])"
      ]
     },
     "metadata": {},
     "execution_count": 12
    }
   ],
   "source": [
    "torch.add(x, y)"
   ]
  },
  {
   "source": [
    "### Add: Use an output tensor to store the result"
   ],
   "cell_type": "markdown",
   "metadata": {}
  },
  {
   "cell_type": "code",
   "execution_count": 13,
   "metadata": {},
   "outputs": [
    {
     "output_type": "execute_result",
     "data": {
      "text/plain": [
       "tensor([[ 1.1813, -0.1887,  0.4171],\n",
       "        [ 2.2018,  0.6006,  0.2889],\n",
       "        [ 0.6426,  0.6922,  0.0883],\n",
       "        [-0.7869,  0.4413, -0.0678],\n",
       "        [ 0.5683,  0.2711,  0.6906]])"
      ]
     },
     "metadata": {},
     "execution_count": 13
    }
   ],
   "source": [
    "result = torch.empty(5, 3)\n",
    "torch.add(x, y, out=result)\n",
    "result"
   ]
  },
  {
   "source": [
    "### Add: In-place"
   ],
   "cell_type": "markdown",
   "metadata": {}
  },
  {
   "cell_type": "code",
   "execution_count": 14,
   "metadata": {},
   "outputs": [
    {
     "output_type": "execute_result",
     "data": {
      "text/plain": [
       "tensor([[ 1.1813, -0.1887,  0.4171],\n",
       "        [ 2.2018,  0.6006,  0.2889],\n",
       "        [ 0.6426,  0.6922,  0.0883],\n",
       "        [-0.7869,  0.4413, -0.0678],\n",
       "        [ 0.5683,  0.2711,  0.6906]])"
      ]
     },
     "metadata": {},
     "execution_count": 14
    }
   ],
   "source": [
    "# Add x to y\n",
    "y.add_(x)\n",
    "y"
   ]
  },
  {
   "source": [
    "Note that any operation which would change the tensor has a prefix, such as `x.copy_(y)`, `x.t_()`, which will change `x`."
   ],
   "cell_type": "markdown",
   "metadata": {}
  },
  {
   "cell_type": "code",
   "execution_count": 15,
   "metadata": {},
   "outputs": [
    {
     "output_type": "execute_result",
     "data": {
      "text/plain": [
       "tensor([[ 1.1813, -0.1887,  0.4171],\n",
       "        [ 2.2018,  0.6006,  0.2889],\n",
       "        [ 0.6426,  0.6922,  0.0883],\n",
       "        [-0.7869,  0.4413, -0.0678],\n",
       "        [ 0.5683,  0.2711,  0.6906]])"
      ]
     },
     "metadata": {},
     "execution_count": 15
    }
   ],
   "source": [
    "x.copy_(y)\n",
    "x"
   ]
  },
  {
   "cell_type": "code",
   "execution_count": 18,
   "metadata": {},
   "outputs": [
    {
     "output_type": "execute_result",
     "data": {
      "text/plain": [
       "tensor([[ 1.1813,  2.2018,  0.6426, -0.7869,  0.5683],\n",
       "        [-0.1887,  0.6006,  0.6922,  0.4413,  0.2711],\n",
       "        [ 0.4171,  0.2889,  0.0883, -0.0678,  0.6906]])"
      ]
     },
     "metadata": {},
     "execution_count": 18
    }
   ],
   "source": [
    "x.t_()\n",
    "x"
   ]
  },
  {
   "source": [
    "### Index operation as in Numpy"
   ],
   "cell_type": "markdown",
   "metadata": {}
  },
  {
   "cell_type": "code",
   "execution_count": 20,
   "metadata": {},
   "outputs": [
    {
     "output_type": "execute_result",
     "data": {
      "text/plain": [
       "tensor([[ 2.2018,  0.6426, -0.7869],\n",
       "        [ 0.6006,  0.6922,  0.4413],\n",
       "        [ 0.2889,  0.0883, -0.0678]])"
      ]
     },
     "metadata": {},
     "execution_count": 20
    }
   ],
   "source": [
    "x[:, 1:4]"
   ]
  },
  {
   "source": [
    "### Change a tensor's size or shape: `.view()`"
   ],
   "cell_type": "markdown",
   "metadata": {}
  },
  {
   "cell_type": "code",
   "execution_count": 21,
   "metadata": {},
   "outputs": [
    {
     "output_type": "execute_result",
     "data": {
      "text/plain": [
       "tensor([[0.9089, 0.0648, 0.6228, 0.7501],\n",
       "        [0.0364, 0.5997, 0.4292, 0.1779],\n",
       "        [0.9810, 0.7894, 0.3001, 0.7633],\n",
       "        [0.6820, 0.0088, 0.3186, 0.9039]])"
      ]
     },
     "metadata": {},
     "execution_count": 21
    }
   ],
   "source": [
    "x = torch.rand(4, 4)\n",
    "x"
   ]
  },
  {
   "cell_type": "code",
   "execution_count": 22,
   "metadata": {},
   "outputs": [
    {
     "output_type": "execute_result",
     "data": {
      "text/plain": [
       "tensor([0.9089, 0.0648, 0.6228, 0.7501, 0.0364, 0.5997, 0.4292, 0.1779, 0.9810,\n",
       "        0.7894, 0.3001, 0.7633, 0.6820, 0.0088, 0.3186, 0.9039])"
      ]
     },
     "metadata": {},
     "execution_count": 22
    }
   ],
   "source": [
    "y = x.view(16)\n",
    "y"
   ]
  },
  {
   "cell_type": "code",
   "execution_count": 23,
   "metadata": {},
   "outputs": [
    {
     "output_type": "execute_result",
     "data": {
      "text/plain": [
       "tensor([[0.9089, 0.0648, 0.6228, 0.7501, 0.0364, 0.5997, 0.4292, 0.1779],\n",
       "        [0.9810, 0.7894, 0.3001, 0.7633, 0.6820, 0.0088, 0.3186, 0.9039]])"
      ]
     },
     "metadata": {},
     "execution_count": 23
    }
   ],
   "source": [
    "z = x.view(-1, 8) # the size -1 is inferred from other dimensions\n",
    "z"
   ]
  },
  {
   "cell_type": "code",
   "execution_count": 24,
   "metadata": {},
   "outputs": [
    {
     "output_type": "execute_result",
     "data": {
      "text/plain": [
       "(torch.Size([4, 4]), torch.Size([16]), torch.Size([2, 8]))"
      ]
     },
     "metadata": {},
     "execution_count": 24
    }
   ],
   "source": [
    "x.size(), y.size(), z.size()"
   ]
  },
  {
   "source": [
    "### Use `.item()` to get a (one-element-) tensor's value"
   ],
   "cell_type": "markdown",
   "metadata": {}
  },
  {
   "cell_type": "code",
   "execution_count": 25,
   "metadata": {},
   "outputs": [
    {
     "output_type": "execute_result",
     "data": {
      "text/plain": [
       "tensor([0.8069])"
      ]
     },
     "metadata": {},
     "execution_count": 25
    }
   ],
   "source": [
    "x = torch.rand(1)\n",
    "x"
   ]
  },
  {
   "cell_type": "code",
   "execution_count": 26,
   "metadata": {},
   "outputs": [
    {
     "output_type": "execute_result",
     "data": {
      "text/plain": [
       "0.8069329261779785"
      ]
     },
     "metadata": {},
     "execution_count": 26
    }
   ],
   "source": [
    "x.item()"
   ]
  },
  {
   "source": [
    "### Absolute value: `.abs()`"
   ],
   "cell_type": "markdown",
   "metadata": {}
  },
  {
   "cell_type": "code",
   "execution_count": 27,
   "metadata": {},
   "outputs": [
    {
     "output_type": "execute_result",
     "data": {
      "text/plain": [
       "tensor([[-0.5016,  0.0526,  0.8402],\n",
       "        [ 0.2699, -1.4825,  0.8910],\n",
       "        [ 0.1559,  0.1855,  1.4077],\n",
       "        [ 1.1450, -1.1280, -1.2900],\n",
       "        [ 0.2751,  0.4045,  1.3068]])"
      ]
     },
     "metadata": {},
     "execution_count": 27
    }
   ],
   "source": [
    "x = torch.randn(5,3)\n",
    "x"
   ]
  },
  {
   "cell_type": "code",
   "execution_count": 28,
   "metadata": {},
   "outputs": [
    {
     "output_type": "execute_result",
     "data": {
      "text/plain": [
       "tensor([[0.5016, 0.0526, 0.8402],\n",
       "        [0.2699, 1.4825, 0.8910],\n",
       "        [0.1559, 0.1855, 1.4077],\n",
       "        [1.1450, 1.1280, 1.2900],\n",
       "        [0.2751, 0.4045, 1.3068]])"
      ]
     },
     "metadata": {},
     "execution_count": 28
    }
   ],
   "source": [
    "x.abs()"
   ]
  },
  {
   "source": [
    "### Divide: `torch.div(x, y)`"
   ],
   "cell_type": "markdown",
   "metadata": {}
  },
  {
   "cell_type": "code",
   "execution_count": 29,
   "metadata": {},
   "outputs": [
    {
     "output_type": "execute_result",
     "data": {
      "text/plain": [
       "(tensor([[ 1.1802e+00,  9.0028e-04, -1.4919e+00],\n",
       "         [ 7.7654e-01,  6.1986e-01, -5.0171e-01]]),\n",
       " tensor([[ 0.3448,  0.0936, -0.1937],\n",
       "         [ 0.3761, -1.9338,  1.3261]]),\n",
       " tensor([[ 3.4229,  0.0096,  7.7012],\n",
       "         [ 2.0645, -0.3205, -0.3783]]))"
      ]
     },
     "metadata": {},
     "execution_count": 29
    }
   ],
   "source": [
    "x = torch.randn(2, 3)\n",
    "y = torch.randn (2, 3)\n",
    "z = torch.div(x, y)\n",
    "x, y, z"
   ]
  },
  {
   "source": [
    "### Multiply: `torch.mul(x, y)`"
   ],
   "cell_type": "markdown",
   "metadata": {}
  },
  {
   "cell_type": "code",
   "execution_count": 30,
   "metadata": {},
   "outputs": [
    {
     "output_type": "execute_result",
     "data": {
      "text/plain": [
       "(tensor([[-0.3319,  0.5721,  1.9249],\n",
       "         [ 0.5791, -0.2125, -0.0603]]),\n",
       " tensor([[-0.7256,  0.4080,  2.5538],\n",
       "         [ 0.0345,  1.6664,  0.2809]]),\n",
       " tensor([[ 0.2408,  0.2334,  4.9157],\n",
       "         [ 0.0200, -0.3541, -0.0169]]))"
      ]
     },
     "metadata": {},
     "execution_count": 30
    }
   ],
   "source": [
    "x = torch.randn(2, 3)\n",
    "y = torch.randn (2, 3)\n",
    "z = torch.mul(x, y)\n",
    "x, y, z"
   ]
  },
  {
   "source": [
    "### Matrix multiply: `torch.mm(x, y)`"
   ],
   "cell_type": "markdown",
   "metadata": {}
  },
  {
   "cell_type": "code",
   "execution_count": 31,
   "metadata": {},
   "outputs": [
    {
     "output_type": "execute_result",
     "data": {
      "text/plain": [
       "(tensor([[-1.5938,  1.0498,  1.5687],\n",
       "         [ 1.4174,  1.6030, -0.9049]]),\n",
       " tensor([[ 0.6399, -0.2407],\n",
       "         [-0.9906,  0.1433],\n",
       "         [ 0.4644, -0.2792]]),\n",
       " tensor([[-1.3313,  0.0961],\n",
       "         [-1.1011,  0.1413]]))"
      ]
     },
     "metadata": {},
     "execution_count": 31
    }
   ],
   "source": [
    "x = torch.randn(2, 3)\n",
    "y = torch.randn (3, 2)\n",
    "z = torch.mm(x, y)\n",
    "x, y, z"
   ]
  },
  {
   "source": [
    "### Matrix * Vector: `torch.mv(x, y)`"
   ],
   "cell_type": "markdown",
   "metadata": {}
  },
  {
   "cell_type": "code",
   "execution_count": 32,
   "metadata": {},
   "outputs": [
    {
     "output_type": "execute_result",
     "data": {
      "text/plain": [
       "(tensor([[-1.5590,  0.6985, -0.4858],\n",
       "         [-1.0298, -0.0593, -0.6095]]),\n",
       " tensor([ 0.2852, -0.9150,  1.0393]),\n",
       " tensor([-1.5888, -0.8730]))"
      ]
     },
     "metadata": {},
     "execution_count": 32
    }
   ],
   "source": [
    "x = torch.randn(2, 3)\n",
    "y = torch.randn(3)\n",
    "z = torch.mv(x, y)\n",
    "x, y, z"
   ]
  },
  {
   "source": [
    "Note that `x` is a matrix and `y` is a vector, and the sequence of `x, y` cannot be reversed in the arguments of `torch.mv(x, y)`, otherwise, there will be error as follows,"
   ],
   "cell_type": "markdown",
   "metadata": {}
  },
  {
   "cell_type": "code",
   "execution_count": 34,
   "metadata": {},
   "outputs": [
    {
     "output_type": "stream",
     "name": "stdout",
     "text": [
      "tensor([-1.1813,  0.3604,  0.2888])\ntensor([[-0.3015, -0.4994]])\n"
     ]
    },
    {
     "output_type": "error",
     "ename": "RuntimeError",
     "evalue": "vector + matrix @ vector expected, got 1, 1, 2",
     "traceback": [
      "\u001b[1;31m---------------------------------------------------------------------------\u001b[0m",
      "\u001b[1;31mRuntimeError\u001b[0m                              Traceback (most recent call last)",
      "\u001b[1;32m<ipython-input-34-0ecd86653b9b>\u001b[0m in \u001b[0;36m<module>\u001b[1;34m\u001b[0m\n\u001b[0;32m      3\u001b[0m \u001b[0my\u001b[0m \u001b[1;33m=\u001b[0m \u001b[0mtorch\u001b[0m\u001b[1;33m.\u001b[0m\u001b[0mrandn\u001b[0m\u001b[1;33m(\u001b[0m\u001b[1;36m1\u001b[0m\u001b[1;33m,\u001b[0m \u001b[1;36m2\u001b[0m\u001b[1;33m)\u001b[0m\u001b[1;33m\u001b[0m\u001b[1;33m\u001b[0m\u001b[0m\n\u001b[0;32m      4\u001b[0m \u001b[0mprint\u001b[0m\u001b[1;33m(\u001b[0m\u001b[0my\u001b[0m\u001b[1;33m)\u001b[0m\u001b[1;33m\u001b[0m\u001b[1;33m\u001b[0m\u001b[0m\n\u001b[1;32m----> 5\u001b[1;33m \u001b[0mz\u001b[0m \u001b[1;33m=\u001b[0m \u001b[0mtorch\u001b[0m\u001b[1;33m.\u001b[0m\u001b[0mmv\u001b[0m\u001b[1;33m(\u001b[0m\u001b[0mx\u001b[0m\u001b[1;33m,\u001b[0m \u001b[0my\u001b[0m\u001b[1;33m)\u001b[0m\u001b[1;33m\u001b[0m\u001b[1;33m\u001b[0m\u001b[0m\n\u001b[0m\u001b[0;32m      6\u001b[0m \u001b[0mprint\u001b[0m\u001b[1;33m(\u001b[0m\u001b[0mz\u001b[0m\u001b[1;33m)\u001b[0m\u001b[1;33m\u001b[0m\u001b[1;33m\u001b[0m\u001b[0m\n",
      "\u001b[1;31mRuntimeError\u001b[0m: vector + matrix @ vector expected, got 1, 1, 2"
     ]
    }
   ],
   "source": [
    "x = torch.randn(3)\n",
    "print(x)\n",
    "y = torch.randn(1, 2)\n",
    "print(y)\n",
    "z = torch.mv(x, y)\n",
    "print(z)"
   ]
  },
  {
   "source": [
    "### Power: `torch.pow()`"
   ],
   "cell_type": "markdown",
   "metadata": {}
  },
  {
   "cell_type": "code",
   "execution_count": 35,
   "metadata": {},
   "outputs": [
    {
     "output_type": "stream",
     "name": "stdout",
     "text": [
      "tensor([[-0.5023, -0.1658, -0.6226],\n        [-0.5063,  0.6508,  1.1563]])\n"
     ]
    },
    {
     "output_type": "execute_result",
     "data": {
      "text/plain": [
       "tensor([[0.2523, 0.0275, 0.3876],\n",
       "        [0.2563, 0.4236, 1.3370]])"
      ]
     },
     "metadata": {},
     "execution_count": 35
    }
   ],
   "source": [
    "x = torch.randn(2, 3)\n",
    "print(x)\n",
    "y = torch.pow(x, 2)\n",
    "y"
   ]
  },
  {
   "source": [
    "### 裁剪Tensor: `torch.clamp()`"
   ],
   "cell_type": "markdown",
   "metadata": {}
  },
  {
   "source": [
    "clamp: 夹紧，固定住"
   ],
   "cell_type": "markdown",
   "metadata": {}
  },
  {
   "cell_type": "code",
   "execution_count": 36,
   "metadata": {},
   "outputs": [
    {
     "output_type": "execute_result",
     "data": {
      "text/plain": [
       "(tensor([[ 1.0188,  2.8197, -0.4300],\n",
       "         [-2.8174, -0.2770, -1.2249]]),\n",
       " tensor([[ 0.1000,  0.1000, -0.1000],\n",
       "         [-0.1000, -0.1000, -0.1000]]))"
      ]
     },
     "metadata": {},
     "execution_count": 36
    }
   ],
   "source": [
    "x = torch.randn(2, 3)\n",
    "z = torch.clamp(x, -0.1, 0.1) # 裁剪的上下边界为0.1和-0.1\n",
    "x, z"
   ]
  },
  {
   "source": [
    "### 对Tensor中的元素重新赋值"
   ],
   "cell_type": "markdown",
   "metadata": {}
  },
  {
   "cell_type": "code",
   "execution_count": 37,
   "metadata": {},
   "outputs": [
    {
     "output_type": "stream",
     "name": "stdout",
     "text": [
      "tensor([[ 0.5226, -0.6096],\n        [-0.8417,  0.6603],\n        [-0.6073,  1.4104]])\n"
     ]
    },
    {
     "output_type": "execute_result",
     "data": {
      "text/plain": [
       "tensor([[ 0.5226,  4.0000],\n",
       "        [-0.8417,  0.6603],\n",
       "        [-0.6073,  1.4104]])"
      ]
     },
     "metadata": {},
     "execution_count": 37
    }
   ],
   "source": [
    "x = torch.randn(3, 2)\n",
    "print(x)\n",
    "x[0, 1] = 4\n",
    "x"
   ]
  }
 ]
}